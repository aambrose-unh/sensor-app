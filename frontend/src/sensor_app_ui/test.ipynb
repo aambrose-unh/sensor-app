{
 "cells": [
  {
   "cell_type": "code",
   "execution_count": 25,
   "metadata": {},
   "outputs": [],
   "source": [
    "import requests\n",
    "import pandas as pd\n",
    "import json"
   ]
  },
  {
   "cell_type": "code",
   "execution_count": 26,
   "metadata": {},
   "outputs": [],
   "source": [
    "url = \"http://localhost:8000/sensors/?skip=0&limit=1000\""
   ]
  },
  {
   "cell_type": "code",
   "execution_count": 27,
   "metadata": {},
   "outputs": [],
   "source": [
    "data = requests.get(url)"
   ]
  },
  {
   "cell_type": "code",
   "execution_count": 30,
   "metadata": {},
   "outputs": [],
   "source": [
    "d = data.json()"
   ]
  },
  {
   "cell_type": "code",
   "execution_count": 31,
   "metadata": {},
   "outputs": [
    {
     "data": {
      "text/html": [
       "<div>\n",
       "<style scoped>\n",
       "    .dataframe tbody tr th:only-of-type {\n",
       "        vertical-align: middle;\n",
       "    }\n",
       "\n",
       "    .dataframe tbody tr th {\n",
       "        vertical-align: top;\n",
       "    }\n",
       "\n",
       "    .dataframe thead th {\n",
       "        text-align: right;\n",
       "    }\n",
       "</style>\n",
       "<table border=\"1\" class=\"dataframe\">\n",
       "  <thead>\n",
       "    <tr style=\"text-align: right;\">\n",
       "      <th></th>\n",
       "      <th>name</th>\n",
       "      <th>description</th>\n",
       "      <th>measurement_type_id</th>\n",
       "      <th>id</th>\n",
       "      <th>outputs</th>\n",
       "    </tr>\n",
       "  </thead>\n",
       "  <tbody>\n",
       "    <tr>\n",
       "      <th>0</th>\n",
       "      <td>dht22_1</td>\n",
       "      <td>sensor used to test db</td>\n",
       "      <td>1</td>\n",
       "      <td>2</td>\n",
       "      <td>[{'value': 25.0, 'sensor_id': 2, 'measurement_...</td>\n",
       "    </tr>\n",
       "    <tr>\n",
       "      <th>1</th>\n",
       "      <td>dht22_1</td>\n",
       "      <td>sensor used to test db</td>\n",
       "      <td>2</td>\n",
       "      <td>3</td>\n",
       "      <td>[{'value': 24.0, 'sensor_id': 3, 'measurement_...</td>\n",
       "    </tr>\n",
       "  </tbody>\n",
       "</table>\n",
       "</div>"
      ],
      "text/plain": [
       "      name             description  measurement_type_id  id  \\\n",
       "0  dht22_1  sensor used to test db                    1   2   \n",
       "1  dht22_1  sensor used to test db                    2   3   \n",
       "\n",
       "                                             outputs  \n",
       "0  [{'value': 25.0, 'sensor_id': 2, 'measurement_...  \n",
       "1  [{'value': 24.0, 'sensor_id': 3, 'measurement_...  "
      ]
     },
     "execution_count": 31,
     "metadata": {},
     "output_type": "execute_result"
    }
   ],
   "source": [
    "# IS THIS ONLY RETURNING THE FIRST MEASUREMENT TYPE?\n",
    "pd.json_normalize(d)"
   ]
  },
  {
   "cell_type": "code",
   "execution_count": 38,
   "metadata": {},
   "outputs": [
    {
     "name": "stdout",
     "output_type": "stream",
     "text": [
      "dht22_1\n",
      "dht22_1\n"
     ]
    }
   ],
   "source": [
    "for i in d:\n",
    "    print(i[\"name\"])"
   ]
  },
  {
   "cell_type": "code",
   "execution_count": 35,
   "metadata": {},
   "outputs": [
    {
     "data": {
      "text/plain": [
       "{'name': 'dht22_1',\n",
       " 'description': 'sensor used to test db',\n",
       " 'measurement_type_id': 1,\n",
       " 'id': 2,\n",
       " 'outputs': [{'value': 25.0,\n",
       "   'sensor_id': 2,\n",
       "   'measurement_type_id': 1,\n",
       "   'date_measured': '2023-10-08',\n",
       "   'hour_measured': 395,\n",
       "   'id': 1},\n",
       "  {'value': 90.0,\n",
       "   'sensor_id': 2,\n",
       "   'measurement_type_id': 1,\n",
       "   'date_measured': '2023-10-08',\n",
       "   'hour_measured': 395,\n",
       "   'id': 3},\n",
       "  {'value': 77.0,\n",
       "   'sensor_id': 2,\n",
       "   'measurement_type_id': 1,\n",
       "   'date_measured': '2023-10-08',\n",
       "   'hour_measured': 395,\n",
       "   'id': 5},\n",
       "  {'value': 12.0,\n",
       "   'sensor_id': 2,\n",
       "   'measurement_type_id': 1,\n",
       "   'date_measured': '2023-10-08',\n",
       "   'hour_measured': 395,\n",
       "   'id': 7},\n",
       "  {'value': 75.0,\n",
       "   'sensor_id': 2,\n",
       "   'measurement_type_id': 1,\n",
       "   'date_measured': '2023-10-08',\n",
       "   'hour_measured': 395,\n",
       "   'id': 9},\n",
       "  {'value': 27.0,\n",
       "   'sensor_id': 2,\n",
       "   'measurement_type_id': 1,\n",
       "   'date_measured': '2023-10-08',\n",
       "   'hour_measured': 396,\n",
       "   'id': 11},\n",
       "  {'value': 7.0,\n",
       "   'sensor_id': 2,\n",
       "   'measurement_type_id': 1,\n",
       "   'date_measured': '2023-10-08',\n",
       "   'hour_measured': 396,\n",
       "   'id': 13},\n",
       "  {'value': 7.0,\n",
       "   'sensor_id': 2,\n",
       "   'measurement_type_id': 1,\n",
       "   'date_measured': '2023-10-08',\n",
       "   'hour_measured': 396,\n",
       "   'id': 15},\n",
       "  {'value': 95.0,\n",
       "   'sensor_id': 2,\n",
       "   'measurement_type_id': 1,\n",
       "   'date_measured': '2023-10-08',\n",
       "   'hour_measured': 396,\n",
       "   'id': 17},\n",
       "  {'value': 3.0,\n",
       "   'sensor_id': 2,\n",
       "   'measurement_type_id': 1,\n",
       "   'date_measured': '2023-10-08',\n",
       "   'hour_measured': 396,\n",
       "   'id': 19}]}"
      ]
     },
     "execution_count": 35,
     "metadata": {},
     "output_type": "execute_result"
    }
   ],
   "source": [
    "d[0]"
   ]
  },
  {
   "cell_type": "code",
   "execution_count": null,
   "metadata": {},
   "outputs": [],
   "source": []
  }
 ],
 "metadata": {
  "kernelspec": {
   "display_name": ".venv",
   "language": "python",
   "name": "python3"
  },
  "language_info": {
   "codemirror_mode": {
    "name": "ipython",
    "version": 3
   },
   "file_extension": ".py",
   "mimetype": "text/x-python",
   "name": "python",
   "nbconvert_exporter": "python",
   "pygments_lexer": "ipython3",
   "version": "3.11.3"
  },
  "orig_nbformat": 4
 },
 "nbformat": 4,
 "nbformat_minor": 2
}
